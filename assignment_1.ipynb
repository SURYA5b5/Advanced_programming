{
 "cells": [
  {
   "cell_type": "markdown",
   "id": "158c55e5",
   "metadata": {},
   "source": [
    "1. What is the purpose of Python's OOP?"
   ]
  },
  {
   "cell_type": "raw",
   "id": "34dd2cc5",
   "metadata": {},
   "source": [
    "Ans: Object-oriented programming is a programming paradigm that provides a means of structuring programs so that properties and behaviors are bundled into individual objects\n",
    "\n",
    "-->In Python, object-oriented Programming (OOPs) uses objects and classes in programming.\n",
    "-->It aims to implement real-world entities like inheritance, polymorphisms, encapsulation, etc. in the programming.\n",
    "-->The main concept of OOPs is to bind the data and the functions that work on that together as a single unit so that no other -->part of the code can access this data.\n",
    "-->It comes up with the following advantages:\n",
    "-->It helps to divide our over all program into different small segments and thus making it solving easy with the use of          objects.\n",
    "-->Helps in easy maintenance and modification of existing program\n",
    "-->Multiple instances of an object can be made."
   ]
  },
  {
   "cell_type": "markdown",
   "id": "ad6315e3",
   "metadata": {},
   "source": [
    "2. Where does an inheritance search look for an attribute?"
   ]
  },
  {
   "cell_type": "raw",
   "id": "f5ce2fdf",
   "metadata": {},
   "source": [
    "Ans: Python searches for an attribute in an upward tree of attributes. it first searches for the attribute in its instance and      then looks in the class it is generated from, to all super classes listed in its class header"
   ]
  },
  {
   "cell_type": "markdown",
   "id": "ba72149d",
   "metadata": {},
   "source": [
    "3.How do you distinguish between a class object and an instance object?"
   ]
  },
  {
   "cell_type": "raw",
   "id": "75dc2375",
   "metadata": {},
   "source": [
    "Ans: The differences between a class object and an instance object are:\n",
    "\n",
    "--> Class is a template for creating objects whereas object is an instance of class\n",
    "--> Seperate memory is allocated for each object whenever an object is created. but for a class this doesnot happens.\n",
    "--> A Class is created once. Many objects are created using a class.\n",
    "--> As Classes have no allocated memory. they can't be manipulated. but objects can be manipulated."
   ]
  },
  {
   "cell_type": "markdown",
   "id": "c15275c0",
   "metadata": {},
   "source": [
    "4. What makes the first argument in a class’s method function special?"
   ]
  },
  {
   "cell_type": "raw",
   "id": "eaff71cd",
   "metadata": {},
   "source": [
    "Ans: Python Classes usually have three types of methods which are:\n",
    "\n",
    "--> Instance Methods (object level methods).\n",
    "--> Class Methods (class level methods).\n",
    "--> Static Methods (general utility methods).\n",
    "--> (self) is the first argument for instance methods. which refers to the object itself.\n",
    "--> (cls)is the first argument for class methods which refers to the class itself."
   ]
  },
  {
   "cell_type": "markdown",
   "id": "60613a84",
   "metadata": {},
   "source": [
    "5. What is the purpose of the __init__ method?"
   ]
  },
  {
   "cell_type": "raw",
   "id": "074e99e9",
   "metadata": {},
   "source": [
    "Ans: __init__ is a reseved method in python classes. It serves the role of a constructor in object oriented terminology. \n",
    "     This method is called when an object is created from a class and it allows the class to initialize the attributes of the        class."
   ]
  },
  {
   "cell_type": "markdown",
   "id": "c737c225",
   "metadata": {},
   "source": [
    "6. What is the process for creating a class instance?"
   ]
  },
  {
   "cell_type": "raw",
   "id": "402f43be",
   "metadata": {},
   "source": [
    "Ans: To create a class instance, we need to call the class by its name and pass the arguments to the class, which its init          method accepts.\n",
    "     EX:-a=b(1,3)-->Here a=class instance and b is name and passing arguments(1,3)."
   ]
  },
  {
   "cell_type": "markdown",
   "id": "903daf6e",
   "metadata": {},
   "source": [
    "7. What is the process for creating a class?"
   ]
  },
  {
   "cell_type": "raw",
   "id": "7a8daa7c",
   "metadata": {},
   "source": [
    "Ans: class keyword is used to created a class in python. The syntax to create a class in python is class :\n",
    "\n",
    "     Example: class Car: ➞ this creates a class called Car."
   ]
  },
  {
   "cell_type": "markdown",
   "id": "f7d90d92",
   "metadata": {},
   "source": [
    "8. How would you define the superclasses of a class?"
   ]
  },
  {
   "cell_type": "raw",
   "id": "451e8e83",
   "metadata": {},
   "source": [
    "Ans: Superclass/Parent class is given as a arugment to the child class\n",
    "\n",
    "     Example: class Employee(Person): Here child class Employee inherits attributes and methods from Superclass/Parent Person."
   ]
  }
 ],
 "metadata": {
  "kernelspec": {
   "display_name": "Python 3 (ipykernel)",
   "language": "python",
   "name": "python3"
  },
  "language_info": {
   "codemirror_mode": {
    "name": "ipython",
    "version": 3
   },
   "file_extension": ".py",
   "mimetype": "text/x-python",
   "name": "python",
   "nbconvert_exporter": "python",
   "pygments_lexer": "ipython3",
   "version": "3.9.7"
  }
 },
 "nbformat": 4,
 "nbformat_minor": 5
}

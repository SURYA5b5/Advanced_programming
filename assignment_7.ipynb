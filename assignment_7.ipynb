{
 "cells": [
  {
   "cell_type": "raw",
   "id": "1c66186a",
   "metadata": {},
   "source": [
    "1. What is the purpose of the try statement?"
   ]
  },
  {
   "cell_type": "raw",
   "id": "f8cf7498",
   "metadata": {},
   "source": [
    "Ans: try statement is used for exception handling in python. it consists of a block of risky statements which might cause an        exception during runtime. if code within try block raises exception, then the exception will be reverted to the                corresponding except block if multiple except blocks are present, else it willbe reverted to the default except block. In      short try and except in union avoid programs from crashing during runtime due to exceptions."
   ]
  },
  {
   "cell_type": "code",
   "execution_count": 1,
   "id": "8854d90c",
   "metadata": {},
   "outputs": [
    {
     "name": "stdout",
     "output_type": "stream",
     "text": [
      "Division by Zero is Not Possible\n"
     ]
    }
   ],
   "source": [
    "try:\n",
    "    print(10/0)\n",
    "except ZeroDivisionError:\n",
    "    print('Division by Zero is Not Possible')"
   ]
  },
  {
   "cell_type": "markdown",
   "id": "2fbefd24",
   "metadata": {},
   "source": [
    "2. What are the two most popular try statement variations?"
   ]
  },
  {
   "cell_type": "raw",
   "id": "6f0b48a9",
   "metadata": {},
   "source": [
    "Ans: The Popular try statement variations are:\n",
    "\n",
    "1)try,except\n",
    "2)try,except,finally\n",
    "3)try,except,finally,else\n",
    "\n",
    "The try block is used to check code for exceptions during runtime. ie code inside try block will execute completely when there is no error in the program. Whereas the code inside except block will execute whenever the program encounters some error in the preceeding try block.\n",
    "\n",
    "Whereas the code enters the else block if and only if the try clause does not raise and exception. The code in the finally block will execute irrespective of exception."
   ]
  },
  {
   "cell_type": "markdown",
   "id": "6cbb7dc3",
   "metadata": {},
   "source": [
    "3. What is the purpose of the raise statement?"
   ]
  },
  {
   "cell_type": "raw",
   "id": "1685f18b",
   "metadata": {},
   "source": [
    "Ans: raise statement is used to trigger an exception explicitly, if a certain condition is not as per requirement of                programmer. raise statement helps in triggering exception as per programming logic."
   ]
  },
  {
   "cell_type": "markdown",
   "id": "3e537281",
   "metadata": {},
   "source": [
    "4. What does the assert statement do, and what other statement is it like?"
   ]
  },
  {
   "cell_type": "raw",
   "id": "a3d722af",
   "metadata": {},
   "source": [
    "Ans: There are few assertions that programmer always want to be true to avoid code failure. This type of requirement is              fulfilled by assert statement. This statement takes a boolean condition output of which is True, Further Program Executes.      if output of assert statement is False, it raises an Assertion Error."
   ]
  },
  {
   "cell_type": "markdown",
   "id": "890abeb5",
   "metadata": {},
   "source": [
    "5. What is the purpose of the with/as argument, and what other statement is it like?"
   ]
  },
  {
   "cell_type": "raw",
   "id": "9a9261f5",
   "metadata": {},
   "source": [
    "Ans: with/as statement simplifies use of file handling in python. When we use a with statement for file reading, there is no        need for programmer to explicitly takecare of activities like resource deallocation and file closing by using file.close()      method. with statement itself ensures proper acquisition and release of resources. this avoids triggering of exceptions if      file closing is unknowingly forgotten in the code execution.\n",
    "\n",
    "EX:-with open('sample_file.txt','w') as file: file.write('Hello World')"
   ]
  }
 ],
 "metadata": {
  "kernelspec": {
   "display_name": "Python 3 (ipykernel)",
   "language": "python",
   "name": "python3"
  },
  "language_info": {
   "codemirror_mode": {
    "name": "ipython",
    "version": 3
   },
   "file_extension": ".py",
   "mimetype": "text/x-python",
   "name": "python",
   "nbconvert_exporter": "python",
   "pygments_lexer": "ipython3",
   "version": "3.9.7"
  }
 },
 "nbformat": 4,
 "nbformat_minor": 5
}
